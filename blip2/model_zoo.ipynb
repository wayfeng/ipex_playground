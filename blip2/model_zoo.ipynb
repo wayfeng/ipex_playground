{
 "cells": [
  {
   "cell_type": "code",
   "execution_count": 1,
   "id": "3d050850-b11d-4c6a-a029-e057ee4cc5f3",
   "metadata": {},
   "outputs": [],
   "source": [
    "from lavis.models import model_zoo"
   ]
  },
  {
   "cell_type": "code",
   "execution_count": 14,
   "id": "0e303d60-52b7-4d83-af58-5a5956a83973",
   "metadata": {},
   "outputs": [
    {
     "name": "stdout",
     "output_type": "stream",
     "text": [
      "{'blip2_opt': ['pretrain_opt2.7b', 'pretrain_opt6.7b', 'caption_coco_opt2.7b', 'caption_coco_opt6.7b']}\n",
      "{'blip2_t5': ['pretrain_flant5xl', 'pretrain_flant5xl_vitL', 'pretrain_flant5xxl', 'caption_coco_flant5xl']}\n",
      "{'blip2_feature_extractor': ['pretrain', 'pretrain_vitL', 'coco']}\n",
      "{'blip2': ['pretrain', 'pretrain_vitL', 'coco']}\n",
      "{'blip2_image_text_matching': ['pretrain', 'pretrain_vitL', 'coco']}\n",
      "{'blip2_t5_instruct': ['flant5xl', 'flant5xxl']}\n",
      "{'blip2_vicuna_instruct': ['vicuna7b', 'vicuna13b']}\n",
      "{'blip2_vicuna_xinstruct': ['vicuna7b', 'vicuna13b']}\n"
     ]
    }
   ],
   "source": [
    "for k in model_zoo.model_zoo.keys():\n",
    "    if k.startswith(\"blip2\"):\n",
    "        print({k: model_zoo.model_zoo[k]})\n",
    "    #print(model_zoo.model_zoo[k]) if k.contains(\"blip2\") else None"
   ]
  }
 ],
 "metadata": {
  "kernelspec": {
   "display_name": "Python 3 (ipykernel)",
   "language": "python",
   "name": "python3"
  },
  "language_info": {
   "codemirror_mode": {
    "name": "ipython",
    "version": 3
   },
   "file_extension": ".py",
   "mimetype": "text/x-python",
   "name": "python",
   "nbconvert_exporter": "python",
   "pygments_lexer": "ipython3",
   "version": "3.10.12"
  }
 },
 "nbformat": 4,
 "nbformat_minor": 5
}
